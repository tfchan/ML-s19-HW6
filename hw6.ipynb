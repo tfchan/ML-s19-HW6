{
 "cells": [
  {
   "cell_type": "markdown",
   "metadata": {},
   "source": [
    "# Machine learning homework 6"
   ]
  },
  {
   "cell_type": "markdown",
   "metadata": {},
   "source": [
    "## 0 Preparation"
   ]
  },
  {
   "cell_type": "markdown",
   "metadata": {},
   "source": [
    "### 0.1 Import required librarys"
   ]
  },
  {
   "cell_type": "code",
   "execution_count": null,
   "metadata": {},
   "outputs": [],
   "source": [
    "import numpy as np\n",
    "import matplotlib.pyplot as plt\n",
    "import matplotlib.animation as ani\n",
    "from IPython.display import display, Image"
   ]
  },
  {
   "cell_type": "markdown",
   "metadata": {},
   "source": [
    "### 0.2 Read data from files"
   ]
  },
  {
   "cell_type": "code",
   "execution_count": null,
   "metadata": {},
   "outputs": [],
   "source": [
    "circle = np.loadtxt('data/circle.txt', delimiter=',')\n",
    "moon = np.loadtxt('data/moon.txt', delimiter=',')"
   ]
  },
  {
   "cell_type": "markdown",
   "metadata": {},
   "source": [
    "### 0.3 Take a look at the data"
   ]
  },
  {
   "cell_type": "code",
   "execution_count": null,
   "metadata": {},
   "outputs": [],
   "source": [
    "def scatter_animation(x, y, color_steps, save):\n",
    "    def update_scatter(frame, scat, color_steps):\n",
    "        scat.set_array(color_steps[:, frame])\n",
    "        return scat,\n",
    "    fig, ax = plt.subplots()\n",
    "    # Must initialize with that number of cluster!!\n",
    "    scat = ax.scatter(x, y, c=color_steps[:, -1])\n",
    "    animation = ani.FuncAnimation(fig, update_scatter, frames=color_steps.shape[1],\n",
    "                                  blit=True, interval=300, repeat_delay=500, fargs=(scat, color_steps))\n",
    "    plt.close()\n",
    "    animation.save(save, writer='imagemagick')\n",
    "    display(Image(filename=save))"
   ]
  },
  {
   "cell_type": "code",
   "execution_count": null,
   "metadata": {},
   "outputs": [],
   "source": [
    "def plot_graph(x1, x2, y1=None, y2=None, title='', animated=False):\n",
    "    \"\"\"Plot circle and moon, with or without label, animate or not.\"\"\"\n",
    "    y1_final = y1[:, -1] if animated else y1\n",
    "    y2_final = y2[:, -1] if animated else y2\n",
    "    fig, ax = plt.subplots(1, 2, figsize=(8, 4))\n",
    "    fig.suptitle(title)\n",
    "    ax[0].set_title('circle')\n",
    "    ax[0].scatter(x1[:, 0], x1[:, 1], c=y1_final)\n",
    "    ax[1].set_title('moon')\n",
    "    ax[1].scatter(x2[:, 0], x2[:, 1], c=y2_final)\n",
    "    plt.show()\n",
    "    if animated:\n",
    "        scatter_animation(x1[:, 0], x1[:, 1], y1, f'{title}_circle.gif')\n",
    "        scatter_animation(x2[:, 0], x2[:, 1], y2, f'{title}_moon.gif')\n",
    "plot_graph(circle, moon)"
   ]
  },
  {
   "cell_type": "markdown",
   "metadata": {},
   "source": [
    "## 1 Make animation to show clustering procedure"
   ]
  },
  {
   "cell_type": "markdown",
   "metadata": {},
   "source": [
    "### 1.1 k-means"
   ]
  },
  {
   "cell_type": "markdown",
   "metadata": {},
   "source": [
    "#### Define initialization method for k-means\n",
    "This method randomly assign each sample to one cluster"
   ]
  },
  {
   "cell_type": "code",
   "execution_count": null,
   "metadata": {},
   "outputs": [],
   "source": [
    "def random_assign(x, n_class):\n",
    "    \"\"\"Initialization method which random assign class.\"\"\"\n",
    "    y = np.random.randint(0, n_class, x.shape[0])\n",
    "    return y"
   ]
  },
  {
   "cell_type": "markdown",
   "metadata": {},
   "source": [
    "#### Define E step of k-means"
   ]
  },
  {
   "cell_type": "code",
   "execution_count": null,
   "metadata": {},
   "outputs": [],
   "source": [
    "def assign_cluster(x, means):\n",
    "    \"\"\"Assign x to different cluster according to closest mean.\"\"\"\n",
    "    # Add a new axis to x\n",
    "    x_new = x[:, None, :]\n",
    "    # Compute euclidean distance for each pair of x and mean point\n",
    "    distance = np.sqrt(np.sum((x_new - means)**2, axis=2))\n",
    "    # Assign cluster to a point with smallest distance from means\n",
    "    y = np.argmin(distance, axis=1)\n",
    "    return y"
   ]
  },
  {
   "cell_type": "markdown",
   "metadata": {},
   "source": [
    "#### Define M step of k-means"
   ]
  },
  {
   "cell_type": "code",
   "execution_count": null,
   "metadata": {},
   "outputs": [],
   "source": [
    "def compute_means(x, y, k):\n",
    "    \"\"\"Compute the mean value for each cluster of x.\"\"\"\n",
    "    means = np.array([x[y == c].mean(axis=0) for c in range(k)])\n",
    "    return means"
   ]
  },
  {
   "cell_type": "markdown",
   "metadata": {},
   "source": [
    "#### Combine E and M step to perform k-means"
   ]
  },
  {
   "cell_type": "code",
   "execution_count": null,
   "metadata": {},
   "outputs": [],
   "source": [
    "def kmeans(x, k=2, init_method=random_assign, return_step=False):\n",
    "    \"\"\"Perform k-means clustering on x.\"\"\"\n",
    "    # Randomly assign cluster to each x as initialization\n",
    "    y = init_method(x, k)\n",
    "    steps = y[:, None].copy()\n",
    "    means = compute_means(x, y, k)\n",
    "    prev_means = means\n",
    "    # Repeatly assign cluster and compute new means until converge\n",
    "    while True:\n",
    "        y = assign_cluster(x, means)\n",
    "        means = compute_means(x, y, k)\n",
    "        steps = np.hstack((steps, y[:, None]))\n",
    "        # Stop iteration if means didn't move\n",
    "        if np.allclose(means, prev_means):\n",
    "            break\n",
    "        prev_means = means\n",
    "    return y if not return_step else steps"
   ]
  },
  {
   "cell_type": "markdown",
   "metadata": {},
   "source": [
    "#### Perform k-means on circle and moon"
   ]
  },
  {
   "cell_type": "code",
   "execution_count": null,
   "metadata": {},
   "outputs": [],
   "source": [
    "y_circle = kmeans(circle, return_step=True)\n",
    "y_moon = kmeans(moon, return_step=True)\n",
    "plot_graph(circle, moon, y_circle, y_moon, 'k-means', animated=True)"
   ]
  },
  {
   "cell_type": "markdown",
   "metadata": {},
   "source": [
    "### 1.2 Kernel k-means"
   ]
  },
  {
   "cell_type": "markdown",
   "metadata": {},
   "source": [
    "#### Define kernel function\n",
    "Here we use RBF kernel"
   ]
  },
  {
   "cell_type": "code",
   "execution_count": null,
   "metadata": {},
   "outputs": [],
   "source": [
    "def rbf_kernel(x1, x2, gamma = 5):\n",
    "    \"\"\"Custom kernel function which accept two list of samples and return a list of result.\"\"\"\n",
    "    euclidean = np.sqrt(np.sum((x1 - x2) ** 2, axis=1))\n",
    "    rbf = np.exp(-gamma * euclidean ** 2)\n",
    "    return rbf"
   ]
  },
  {
   "cell_type": "markdown",
   "metadata": {},
   "source": [
    "#### Define function for precomputing data using kernel"
   ]
  },
  {
   "cell_type": "code",
   "execution_count": null,
   "metadata": {},
   "outputs": [],
   "source": [
    "def precomputed(x1, x2, kernel_func):\n",
    "    \"\"\"Precomputed x1 with x2 using kernel function, return array of shape (n_x1, n_x2).\"\"\"\n",
    "    result = np.zeros((x1.shape[0], x2.shape[0]))\n",
    "    for j in range(result.shape[1]):\n",
    "        x2_j = x2[j][None, :]\n",
    "        result[:, j] = kernel_func(x1, x2_j)\n",
    "    return result"
   ]
  },
  {
   "cell_type": "markdown",
   "metadata": {},
   "source": [
    "### Define main function for kernel k-means"
   ]
  },
  {
   "cell_type": "code",
   "execution_count": null,
   "metadata": {},
   "outputs": [],
   "source": [
    "def kernel_kmeans(x, k=2, init_method=random_assign, return_step=False):\n",
    "    \"\"\"Perform kernel k-means clustering on x.\"\"\"\n",
    "    # Compute gram matrix\n",
    "    gram_mat = precomputed(x, x, rbf_kernel)\n",
    "    # Construct array of size (n_sample, k) to store distance\n",
    "    distance = np.zeros((x.shape[0], k))\n",
    "    # Randomly assign cluster to each x as initialization\n",
    "    y = init_method(x, k)\n",
    "    steps = y[:, None].copy()\n",
    "    prev_y = y\n",
    "    while True:\n",
    "        # Compute all sample to each center's distance\n",
    "        for cluster in range(k):\n",
    "            mask = (y == cluster)\n",
    "            first = gram_mat.diagonal()\n",
    "            second = -2 * (mask * gram_mat).sum(axis=1) / mask.sum()\n",
    "            third = (mask * (mask * gram_mat).sum(axis=1)).sum() / (mask.sum() ** 2)\n",
    "            distance[:, cluster] = first + second + third\n",
    "        # Pick the cluster with smallest distance\n",
    "        y = np.argmin(distance, axis=1)\n",
    "        steps = np.hstack((steps, y[:, None]))\n",
    "        # Stop if y didn't change anymore\n",
    "        if (prev_y == y).all():\n",
    "            break\n",
    "        prev_y = y\n",
    "    return y if not return_step else steps"
   ]
  },
  {
   "cell_type": "markdown",
   "metadata": {},
   "source": [
    "#### Perform kernel k-means on circle and moon"
   ]
  },
  {
   "cell_type": "code",
   "execution_count": null,
   "metadata": {},
   "outputs": [],
   "source": [
    "y_circle = kernel_kmeans(circle, return_step=True)\n",
    "y_moon = kernel_kmeans(moon, return_step=True)\n",
    "plot_graph(circle, moon, y_circle, y_moon, 'kernel k-means', animated=True)"
   ]
  },
  {
   "cell_type": "markdown",
   "metadata": {},
   "source": [
    "### 1.3 Spectral clustering\n",
    "Reference:\n",
    "- https://towardsdatascience.com/spectral-clustering-82d3cff3d3b7"
   ]
  },
  {
   "cell_type": "markdown",
   "metadata": {},
   "source": [
    "#### Define main function for spectral clustering"
   ]
  },
  {
   "cell_type": "code",
   "execution_count": null,
   "metadata": {},
   "outputs": [],
   "source": [
    "def spectral_clustering(x, k=2, gamma=50, init_method=random_assign, return_step=False):\n",
    "    distance_mat = np.sqrt(np.sum((x[:, None, :] - x) ** 2, axis=2))\n",
    "    adjacency_mat = np.exp(-gamma * (distance_mat ** 2))\n",
    "    degree_mat = np.diag(adjacency_mat.sum(axis=1))\n",
    "    graph_laplacian = degree_mat - adjacency_mat\n",
    "    eigen_val, eigen_vec = np.linalg.eig(graph_laplacian)\n",
    "    eigen_vec = eigen_vec[:,np.argsort(eigen_val)]\n",
    "    eigen_val = eigen_val[np.argsort(eigen_val)]\n",
    "    y = kmeans(eigen_vec[:, 0:k], k=k, init_method=init_method, return_step=return_step)\n",
    "    return y"
   ]
  },
  {
   "cell_type": "markdown",
   "metadata": {
    "toc-hr-collapsed": false
   },
   "source": [
    "#### Perform spectral clustering on circle and moon"
   ]
  },
  {
   "cell_type": "code",
   "execution_count": null,
   "metadata": {},
   "outputs": [],
   "source": [
    "y_circle = spectral_clustering(circle, return_step=True)\n",
    "y_moon = spectral_clustering(moon, return_step=True)\n",
    "plot_graph(circle, moon, y_circle, y_moon, 'spectral clustering', animated=True)"
   ]
  },
  {
   "cell_type": "markdown",
   "metadata": {},
   "source": [
    "### 1.4 DBSCAN\n",
    "Reference:\n",
    "- https://en.wikipedia.org/wiki/DBSCAN"
   ]
  },
  {
   "cell_type": "markdown",
   "metadata": {},
   "source": [
    "#### Define main function for DBSCAN"
   ]
  },
  {
   "cell_type": "code",
   "execution_count": null,
   "metadata": {},
   "outputs": [],
   "source": [
    "def dbscan(x, epsilon=0.15, min_points=3, return_step=False, step_resolution=50):\n",
    "    \"\"\"Perform DBSCAN clustering on x.\"\"\"\n",
    "    def find_neighbors(distance, radius=epsilon):\n",
    "        \"\"\"Return index of distance which is smaller than radius.\"\"\"\n",
    "        return np.argwhere(distance < radius).flatten()\n",
    "    cluster = 0\n",
    "    # Initialize label of each data point(0:unlabelled, -1:noise, >0:cluster)\n",
    "    y = np.zeros(x.shape[0], dtype=int)\n",
    "    steps = y[:, None].copy()\n",
    "    # Compute distance matrix using broadcasting in numpy\n",
    "    distance_mat = np.sqrt(np.sum((x[:, None, :] - x) ** 2, axis=2))\n",
    "    # Iterate each data point\n",
    "    for i in range(x.shape[0]):\n",
    "        # Skip labelled data point\n",
    "        if y[i] != 0:\n",
    "            continue\n",
    "        # Find index of neighbor which has distance smaller than epsilon from current point\n",
    "        neighbors_idx = find_neighbors(distance_mat[i])\n",
    "        # Mark as noise due to not enough neighbors\n",
    "        if neighbors_idx.shape[0] < min_points:\n",
    "            y[i] = -1\n",
    "            continue\n",
    "        # Assign new cluster\n",
    "        cluster += 1\n",
    "        y[i] = cluster\n",
    "        # Visit all neighbors and corresponding neighbors\n",
    "        neighbors_idx = neighbors_idx[neighbors_idx != i]\n",
    "        while neighbors_idx.shape[0] > 0:\n",
    "            idx = neighbors_idx[0]\n",
    "            # Process unlabelled or noise neighbor\n",
    "            if y[idx] <= 0:\n",
    "                # Find unlabelled neighbor's neighbors\n",
    "                if y[idx] == 0:\n",
    "                    new_neighbors_idx = find_neighbors(distance_mat[idx])\n",
    "                    if new_neighbors_idx.shape[0] >= min_points:\n",
    "                        neighbors_idx = np.append(neighbors_idx, new_neighbors_idx)\n",
    "                # Assign current cluster\n",
    "                y[idx] = cluster\n",
    "                steps = np.hstack((steps, y[:, None]))\n",
    "            neighbors_idx = neighbors_idx[1:]\n",
    "    # Map label back to 0 start\n",
    "    steps[steps == steps.max()] = 0\n",
    "    return y - 1 if not return_step else steps[:, ::step_resolution]"
   ]
  },
  {
   "cell_type": "markdown",
   "metadata": {
    "toc-hr-collapsed": false
   },
   "source": [
    "#### Perform DBSCAN on circle and moon"
   ]
  },
  {
   "cell_type": "code",
   "execution_count": null,
   "metadata": {},
   "outputs": [],
   "source": [
    "y_circle = dbscan(circle)\n",
    "y_moon = dbscan(moon)"
   ]
  },
  {
   "cell_type": "code",
   "execution_count": null,
   "metadata": {},
   "outputs": [],
   "source": [
    "y_circle = dbscan(circle, return_step=True)\n",
    "y_moon = dbscan(moon, return_step=True)\n",
    "plot_graph(circle, moon, y_circle, y_moon, 'DBSCAN', animated=True)"
   ]
  },
  {
   "cell_type": "markdown",
   "metadata": {},
   "source": [
    "## 2 Different k"
   ]
  },
  {
   "cell_type": "markdown",
   "metadata": {},
   "source": [
    "### 2.1 k-means"
   ]
  },
  {
   "cell_type": "code",
   "execution_count": null,
   "metadata": {},
   "outputs": [],
   "source": [
    "k_to_try = [2, 3, 4]\n",
    "for k in k_to_try:\n",
    "    y_circle = kmeans(circle, k=k)\n",
    "    y_moon = kmeans(moon, k=k)\n",
    "    plot_graph(circle, moon, y_circle, y_moon, f'k-means, k={k}')"
   ]
  },
  {
   "cell_type": "markdown",
   "metadata": {},
   "source": [
    "### 2.2 Kernel k-means"
   ]
  },
  {
   "cell_type": "code",
   "execution_count": null,
   "metadata": {},
   "outputs": [],
   "source": [
    "for k in k_to_try:\n",
    "    y_circle = kernel_kmeans(circle, k=k)\n",
    "    y_moon = kernel_kmeans(moon, k=k)\n",
    "    plot_graph(circle, moon, y_circle, y_moon, f'kernel k-means, k={k}')"
   ]
  },
  {
   "cell_type": "markdown",
   "metadata": {},
   "source": [
    "### 2.3 Spectral clustering"
   ]
  },
  {
   "cell_type": "code",
   "execution_count": null,
   "metadata": {},
   "outputs": [],
   "source": [
    "for k in k_to_try:\n",
    "    y_circle = spectral_clustering(circle, k=k)\n",
    "    y_moon = spectral_clustering(moon, k=k)\n",
    "    plot_graph(circle, moon, y_circle, y_moon, f'spectral clustering, k={k}')"
   ]
  },
  {
   "cell_type": "markdown",
   "metadata": {},
   "source": [
    "### 2.4 DBSCAN\n",
    "DBSCAN don't need the parameter `k`, it will automatically find appropriate number of groups to cluter. However, it has parameter $\\epsilon$ and `min_pts` which need to be set carefully to obtain the best result."
   ]
  },
  {
   "cell_type": "markdown",
   "metadata": {},
   "source": [
    "## 3 Different initialization method\n",
    "Here I use k-means++ as alternate initialization method"
   ]
  },
  {
   "cell_type": "markdown",
   "metadata": {},
   "source": [
    "### Define the k-means++ initialization method"
   ]
  },
  {
   "cell_type": "code",
   "execution_count": null,
   "metadata": {},
   "outputs": [],
   "source": [
    "def kmpp_assign(x, n_class):\n",
    "    \"\"\"Initialization method which use k-means++ for assigning class.\"\"\"\n",
    "    # Find n means from x\n",
    "    means = None\n",
    "    for c in range(n_class):\n",
    "        if means is None:\n",
    "            mean = x[np.random.choice(x.shape[0])]\n",
    "            means = mean[None, :]\n",
    "            continue\n",
    "        distance_to_means = np.sqrt(np.sum(((x[:, None, :] - means) ** 2), axis=2))\n",
    "        closest_distance_to_means = distance_to_means.min(axis=1)\n",
    "        probability = closest_distance_to_means / closest_distance_to_means.sum()\n",
    "        mean = x[np.random.choice(x.shape[0], p=probability)]\n",
    "        means = np.vstack((means, mean))\n",
    "    y = assign_cluster(x, means)\n",
    "    return y"
   ]
  },
  {
   "cell_type": "code",
   "execution_count": null,
   "metadata": {},
   "outputs": [],
   "source": [
    "y_circle = kmeans(circle, init_method=kmpp_assign)\n",
    "y_moon = kmeans(moon, init_method=kmpp_assign)\n",
    "plot_graph(circle, moon, y_circle, y_moon, 'k-means')"
   ]
  },
  {
   "cell_type": "code",
   "execution_count": null,
   "metadata": {},
   "outputs": [],
   "source": [
    "y_circle = kernel_kmeans(circle, init_method=kmpp_assign)\n",
    "y_moon = kernel_kmeans(moon, init_method=kmpp_assign)\n",
    "plot_graph(circle, moon, y_circle, y_moon, 'kernel k-means')"
   ]
  },
  {
   "cell_type": "code",
   "execution_count": null,
   "metadata": {},
   "outputs": [],
   "source": [
    "y_circle = spectral_clustering(circle, init_method=kmpp_assign)\n",
    "y_moon = spectral_clustering(moon, init_method=kmpp_assign)\n",
    "plot_graph(circle, moon, y_circle, y_moon, 'spectral clustering')"
   ]
  },
  {
   "cell_type": "markdown",
   "metadata": {},
   "source": [
    "## 4 Eigen space visualization in spectral clustering"
   ]
  }
 ],
 "metadata": {
  "kernelspec": {
   "display_name": "Python 3",
   "language": "python",
   "name": "python3"
  },
  "language_info": {
   "codemirror_mode": {
    "name": "ipython",
    "version": 3
   },
   "file_extension": ".py",
   "mimetype": "text/x-python",
   "name": "python",
   "nbconvert_exporter": "python",
   "pygments_lexer": "ipython3",
   "version": "3.6.7"
  },
  "toc-autonumbering": false
 },
 "nbformat": 4,
 "nbformat_minor": 2
}
