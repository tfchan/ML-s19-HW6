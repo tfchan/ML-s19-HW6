{
 "cells": [
  {
   "cell_type": "markdown",
   "metadata": {},
   "source": [
    "# Machine learning homework 6"
   ]
  },
  {
   "cell_type": "markdown",
   "metadata": {},
   "source": [
    "## 0. Preparation"
   ]
  },
  {
   "cell_type": "markdown",
   "metadata": {},
   "source": [
    "### 0.1 Import required librarys"
   ]
  },
  {
   "cell_type": "code",
   "execution_count": null,
   "metadata": {},
   "outputs": [],
   "source": [
    "import numpy as np\n",
    "import matplotlib.pyplot as plt"
   ]
  },
  {
   "cell_type": "markdown",
   "metadata": {},
   "source": [
    "### 0.2 Read data from files"
   ]
  },
  {
   "cell_type": "code",
   "execution_count": null,
   "metadata": {},
   "outputs": [],
   "source": [
    "circle = np.loadtxt('data/circle.txt', delimiter=',')\n",
    "moon = np.loadtxt('data/moon.txt', delimiter=',')"
   ]
  },
  {
   "cell_type": "markdown",
   "metadata": {},
   "source": [
    "### 0.3 Take a look at the data"
   ]
  },
  {
   "cell_type": "code",
   "execution_count": null,
   "metadata": {},
   "outputs": [],
   "source": [
    "def plot_graph(x1, x2, y1=None, y2=None):\n",
    "    \"\"\"Plot circle and moon, with or without label.\"\"\"\n",
    "    fig, ax = plt.subplots(1, 2, figsize=(8, 4))\n",
    "    ax[0].set_title('circle')\n",
    "    ax[0].scatter(x1[:, 0], x1[:, 1], c=y1)\n",
    "    ax[1].set_title('moon')\n",
    "    ax[1].scatter(x2[:, 0], x2[:, 1], c=y2)\n",
    "    plt.show()\n",
    "plot_graph(circle, moon)"
   ]
  },
  {
   "cell_type": "markdown",
   "metadata": {},
   "source": [
    "## 1. Make animation to show clustering procedure"
   ]
  },
  {
   "cell_type": "markdown",
   "metadata": {},
   "source": [
    "### 1.1 k-means"
   ]
  },
  {
   "cell_type": "markdown",
   "metadata": {},
   "source": [
    "#### Define E step of k-means"
   ]
  },
  {
   "cell_type": "code",
   "execution_count": null,
   "metadata": {},
   "outputs": [],
   "source": [
    "def assign_cluster(x, means):\n",
    "    \"\"\"Assign x to different cluster according to closest mean.\"\"\"\n",
    "    # Add a new axis to x\n",
    "    x_new = x[:, None, :]\n",
    "    # Compute euclidean distance for each pair of x and mean point\n",
    "    distance = np.sqrt(np.sum((x_new - means)**2, axis=2))\n",
    "    # Assign cluster to a point with smallest distance from means\n",
    "    y = np.argmin(distance, axis=1)\n",
    "    return y"
   ]
  },
  {
   "cell_type": "markdown",
   "metadata": {},
   "source": [
    "#### Define M step of k-means"
   ]
  },
  {
   "cell_type": "code",
   "execution_count": null,
   "metadata": {},
   "outputs": [],
   "source": [
    "def compute_means(x, y, k):\n",
    "    \"\"\"Compute the mean value for each cluster of x.\"\"\"\n",
    "    means = np.array([x[y == c].mean(axis=0) for c in range(k)])\n",
    "    return means"
   ]
  },
  {
   "cell_type": "markdown",
   "metadata": {},
   "source": [
    "#### Combine E and M step to perform k-means"
   ]
  },
  {
   "cell_type": "code",
   "execution_count": null,
   "metadata": {},
   "outputs": [],
   "source": [
    "def kmeans(x, k=2, return_step=False):\n",
    "    \"\"\"Perform k-means clustering on x.\"\"\"\n",
    "    # Randomly assign cluster to each x as initialization\n",
    "    y = np.random.randint(0, k, circle.shape[0])\n",
    "    means = compute_means(x, y, k)\n",
    "    prev_means = means\n",
    "    # Repeatly assign cluster and compute new means until converge\n",
    "    while True:\n",
    "        y = assign_cluster(x, means)\n",
    "        means = compute_means(x, y, k)\n",
    "        # Stop iteration if means didn't move\n",
    "        if np.allclose(means, prev_means):\n",
    "            break\n",
    "        prev_means = means\n",
    "    return y"
   ]
  },
  {
   "cell_type": "markdown",
   "metadata": {},
   "source": [
    "#### Perform k-means on circle and moon"
   ]
  },
  {
   "cell_type": "code",
   "execution_count": null,
   "metadata": {},
   "outputs": [],
   "source": [
    "y_circle = kmeans(circle)\n",
    "y_moon = kmeans(moon)\n",
    "plot_graph(circle, moon, y_circle, y_moon)"
   ]
  },
  {
   "cell_type": "markdown",
   "metadata": {},
   "source": [
    "### 1.2 Kernel k-means"
   ]
  },
  {
   "cell_type": "markdown",
   "metadata": {},
   "source": [
    "#### Define kernel function\n",
    "Here we use RBF kernel"
   ]
  },
  {
   "cell_type": "code",
   "execution_count": null,
   "metadata": {},
   "outputs": [],
   "source": [
    "def kernel(x1, x2, gamma = 5):\n",
    "    \"\"\"Custom kernel function which accept two list of samples and return a list of result.\"\"\"\n",
    "    euclidean = np.sqrt(np.sum((x1 - x2) ** 2, axis=1))\n",
    "    rbf = np.exp(-gamma * euclidean ** 2)\n",
    "    return rbf"
   ]
  },
  {
   "cell_type": "markdown",
   "metadata": {},
   "source": [
    "#### Define function for precomputing data using kernel"
   ]
  },
  {
   "cell_type": "code",
   "execution_count": null,
   "metadata": {},
   "outputs": [],
   "source": [
    "def precomputed(x1, x2, kernel_func):\n",
    "    \"\"\"Precomputed x1 with x2 using kernel function, return array of shape (n_x1, n_x2).\"\"\"\n",
    "    result = np.zeros((x1.shape[0], x2.shape[0]))\n",
    "    for j in range(result.shape[1]):\n",
    "        x2_j = x2[j][None, :]\n",
    "        result[:, j] = kernel_func(x1, x2_j)\n",
    "    return result"
   ]
  },
  {
   "cell_type": "markdown",
   "metadata": {},
   "source": [
    "### Define main function for kernel k-means"
   ]
  },
  {
   "cell_type": "code",
   "execution_count": null,
   "metadata": {},
   "outputs": [],
   "source": [
    "def kernel_kmeans(x, k=2, return_step=False):\n",
    "    \"\"\"Perform kernel k-means clustering on x.\"\"\"\n",
    "    # Compute gram matrix\n",
    "    gram_mat = precomputed(x, x, kernel)\n",
    "    # Construct array of size (n_sample, k) to store distance\n",
    "    distance = np.zeros((x.shape[0], k))\n",
    "    # Randomly assign cluster to each x as initialization\n",
    "    y = np.random.randint(0, k, circle.shape[0])\n",
    "    prev_y = y\n",
    "    while True:\n",
    "        # Compute all sample to each center's distance\n",
    "        for cluster in range(k):\n",
    "            mask = (y == cluster)\n",
    "            first = gram_mat.diagonal()\n",
    "            second = -2 * (mask * gram_mat).sum(axis=1) / mask.sum()\n",
    "            third = (mask * (mask * gram_mat).sum(axis=1)).sum() / (mask.sum() ** 2)\n",
    "            distance[:, cluster] = first + second + third\n",
    "        # Pick the cluster with smallest distance\n",
    "        y = np.argmin(distance, axis=1)\n",
    "        # Stop if y didn't change anymore\n",
    "        if (prev_y == y).all():\n",
    "            break\n",
    "        prev_y = y\n",
    "    return y"
   ]
  },
  {
   "cell_type": "markdown",
   "metadata": {},
   "source": [
    "#### Perform kernel k-means on circle and moon"
   ]
  },
  {
   "cell_type": "code",
   "execution_count": null,
   "metadata": {},
   "outputs": [],
   "source": [
    "y_circle = kernel_kmeans(circle)\n",
    "y_moon = kernel_kmeans(moon)\n",
    "plot_graph(circle, moon, y_circle, y_moon)"
   ]
  },
  {
   "cell_type": "markdown",
   "metadata": {},
   "source": [
    "### 1.3 Spectual clustering"
   ]
  },
  {
   "cell_type": "code",
   "execution_count": null,
   "metadata": {},
   "outputs": [],
   "source": []
  },
  {
   "cell_type": "markdown",
   "metadata": {},
   "source": [
    "### 1.4 DBSCAN\n",
    "Reference: https://en.wikipedia.org/wiki/DBSCAN"
   ]
  },
  {
   "cell_type": "markdown",
   "metadata": {},
   "source": [
    "#### Define main function for DBSCAN"
   ]
  },
  {
   "cell_type": "code",
   "execution_count": null,
   "metadata": {},
   "outputs": [],
   "source": [
    "def dbscan(x, epsilon=0.15, min_points=3):\n",
    "    \"\"\"Perform DBSCAN clustering on x.\"\"\"\n",
    "    def find_neighbors(distance, radius=epsilon):\n",
    "        \"\"\"Return index of distance which is smaller than radius.\"\"\"\n",
    "        return np.argwhere(distance < radius).flatten()\n",
    "    cluster = 0\n",
    "    # Initialize label of each data point(0:unlabelled, -1:noise, >0:cluster)\n",
    "    y = np.zeros(x.shape[0], dtype=int)\n",
    "    # Compute distance matrix using broadcasting in numpy\n",
    "    distance_mat = np.sqrt(np.sum((x[:, None, :] - x) ** 2, axis=2))\n",
    "    # Iterate each data point\n",
    "    for i in range(x.shape[0]):\n",
    "        # Skip labelled data point\n",
    "        if y[i] != 0:\n",
    "            continue\n",
    "        # Find index of neighbor which has distance smaller than epsilon from current point\n",
    "        neighbors_idx = find_neighbors(distance_mat[i])\n",
    "        # Mark as noise due to not enough neighbors\n",
    "        if neighbors_idx.shape[0] < min_points:\n",
    "            y[i] = -1\n",
    "            continue\n",
    "        # Assign new cluster\n",
    "        cluster += 1\n",
    "        y[i] = cluster\n",
    "        # Visit all neighbors and corresponding neighbors\n",
    "        neighbors_idx = neighbors_idx[neighbors_idx != i]\n",
    "        while neighbors_idx.shape[0] > 0:\n",
    "            idx = neighbors_idx[0]\n",
    "            # Process unlabelled or noise neighbor\n",
    "            if y[idx] <= 0:\n",
    "                # Find unlabelled neighbor's neighbors\n",
    "                if y[idx] == 0:\n",
    "                    new_neighbors_idx = find_neighbors(distance_mat[idx])\n",
    "                    if new_neighbors_idx.shape[0] >= min_points:\n",
    "                        neighbors_idx = np.append(neighbors_idx, new_neighbors_idx)\n",
    "                # Assign current cluster\n",
    "                y[idx] = cluster\n",
    "            neighbors_idx = neighbors_idx[1:]\n",
    "    # Map label back to 0 start\n",
    "    return y - 1"
   ]
  },
  {
   "cell_type": "markdown",
   "metadata": {},
   "source": [
    "#### Perform DBSCAN on circle and moon"
   ]
  },
  {
   "cell_type": "code",
   "execution_count": null,
   "metadata": {},
   "outputs": [],
   "source": [
    "y_circle = dbscan(circle)\n",
    "y_moon = dbscan(moon)\n",
    "plot_graph(circle, moon, y_circle, y_moon)"
   ]
  }
 ],
 "metadata": {
  "kernelspec": {
   "display_name": "Python 3",
   "language": "python",
   "name": "python3"
  },
  "language_info": {
   "codemirror_mode": {
    "name": "ipython",
    "version": 3
   },
   "file_extension": ".py",
   "mimetype": "text/x-python",
   "name": "python",
   "nbconvert_exporter": "python",
   "pygments_lexer": "ipython3",
   "version": "3.6.7"
  },
  "toc-autonumbering": false
 },
 "nbformat": 4,
 "nbformat_minor": 2
}
