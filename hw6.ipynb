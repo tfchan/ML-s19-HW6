{
 "cells": [
  {
   "cell_type": "markdown",
   "metadata": {},
   "source": [
    "# Machine learning homework 6"
   ]
  },
  {
   "cell_type": "markdown",
   "metadata": {},
   "source": [
    "## 0. Preparation"
   ]
  },
  {
   "cell_type": "markdown",
   "metadata": {},
   "source": [
    "### 0.1 Import required librarys"
   ]
  },
  {
   "cell_type": "code",
   "execution_count": null,
   "metadata": {},
   "outputs": [],
   "source": [
    "import numpy as np\n",
    "import matplotlib.pyplot as plt"
   ]
  },
  {
   "cell_type": "markdown",
   "metadata": {},
   "source": [
    "### 0.2 Read data from files"
   ]
  },
  {
   "cell_type": "code",
   "execution_count": null,
   "metadata": {},
   "outputs": [],
   "source": [
    "circle = np.loadtxt('data/circle.txt', delimiter=',')\n",
    "moon = np.loadtxt('data/moon.txt', delimiter=',')"
   ]
  },
  {
   "cell_type": "markdown",
   "metadata": {},
   "source": [
    "### 0.3 Take a look at the data"
   ]
  },
  {
   "cell_type": "code",
   "execution_count": null,
   "metadata": {},
   "outputs": [],
   "source": [
    "def plot_graph(x1, x2, y1=None, y2=None):\n",
    "    \"\"\"Plot circle and moon, with or without label.\"\"\"\n",
    "    fig = plt.figure(figsize=(8, 4))\n",
    "    ax = fig.add_subplot(121)\n",
    "    ax.set_title('circle')\n",
    "    ax.scatter(x1[:, 0], x1[:, 1], c=y1)\n",
    "    ax = fig.add_subplot(122)\n",
    "    ax.set_title('moon')\n",
    "    ax.scatter(x2[:, 0], x2[:, 1], c=y2)\n",
    "    plt.show()\n",
    "plot_graph(circle, moon)"
   ]
  },
  {
   "cell_type": "markdown",
   "metadata": {},
   "source": [
    "## 1. Make animation to show clustering procedure"
   ]
  },
  {
   "cell_type": "markdown",
   "metadata": {},
   "source": [
    "### 1.1 k-means"
   ]
  },
  {
   "cell_type": "markdown",
   "metadata": {},
   "source": [
    "#### Define E step of k-means"
   ]
  },
  {
   "cell_type": "code",
   "execution_count": null,
   "metadata": {},
   "outputs": [],
   "source": [
    "def assign_cluster(x, means):\n",
    "    \"\"\"Assign x to different cluster according to closest mean.\"\"\"\n",
    "    # Add a new axis to x\n",
    "    x_new = x[:, None, :]\n",
    "    # Compute euclidean distance for each pair of x and mean point\n",
    "    distance = np.sqrt(np.sum((x_new - means)**2, axis=2))\n",
    "    # Assign cluster to a point with smallest distance from means\n",
    "    y = np.argmin(distance, axis=1)\n",
    "    return y"
   ]
  },
  {
   "cell_type": "markdown",
   "metadata": {},
   "source": [
    "#### Define M step of k-means"
   ]
  },
  {
   "cell_type": "code",
   "execution_count": null,
   "metadata": {},
   "outputs": [],
   "source": [
    "def compute_means(x, y, k):\n",
    "    \"\"\"Compute the mean value for each cluster of x.\"\"\"\n",
    "    means = np.array([x[y == c].mean(axis=0) for c in range(k)])\n",
    "    return means"
   ]
  },
  {
   "cell_type": "markdown",
   "metadata": {},
   "source": [
    "#### Combine E and M step to perform k-means"
   ]
  },
  {
   "cell_type": "code",
   "execution_count": null,
   "metadata": {},
   "outputs": [],
   "source": [
    "def kmeans(x, k=2, return_step=False):\n",
    "    \"\"\"Perform k-means clustering on x.\"\"\"\n",
    "    # Randomly assign cluster to each x as initialization\n",
    "    y = np.random.randint(0, k, circle.shape[0])\n",
    "    means = compute_means(x, y, k)\n",
    "    prev_means = means\n",
    "    # Repeatly assign cluster and compute new means until converge\n",
    "    while True:\n",
    "        y = assign_cluster(x, means)\n",
    "        means = compute_means(x, y, k)\n",
    "        # Stop iteration if means didn't move\n",
    "        if np.allclose(means, prev_means):\n",
    "            break\n",
    "        prev_means = means\n",
    "    return y"
   ]
  },
  {
   "cell_type": "code",
   "execution_count": null,
   "metadata": {},
   "outputs": [],
   "source": [
    "y_circle = kmeans(circle)\n",
    "y_moon = kmeans(moon)\n",
    "plot_graph(circle, moon, y_circle, y_moon)"
   ]
  }
 ],
 "metadata": {
  "kernelspec": {
   "display_name": "Python 3",
   "language": "python",
   "name": "python3"
  },
  "language_info": {
   "codemirror_mode": {
    "name": "ipython",
    "version": 3
   },
   "file_extension": ".py",
   "mimetype": "text/x-python",
   "name": "python",
   "nbconvert_exporter": "python",
   "pygments_lexer": "ipython3",
   "version": "3.6.7"
  },
  "toc-autonumbering": false
 },
 "nbformat": 4,
 "nbformat_minor": 2
}
